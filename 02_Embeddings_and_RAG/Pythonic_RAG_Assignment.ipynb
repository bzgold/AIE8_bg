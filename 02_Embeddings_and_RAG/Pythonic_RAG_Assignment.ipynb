{
 "cells": [
  {
   "cell_type": "markdown",
   "metadata": {
    "id": "lElF3o5PR6ys"
   },
   "source": [
    "# Your First RAG Application\n",
    "\n",
    "In this notebook, we'll walk you through each of the components that are involved in a simple RAG application.\n",
    "\n",
    "We won't be leveraging any fancy tools, just the OpenAI Python SDK, Numpy, and some classic Python.\n",
    "\n",
    "> NOTE: This was done with Python 3.12.3.\n",
    "\n",
    "> NOTE: There might be [compatibility issues](https://github.com/wandb/wandb/issues/7683) if you're on NVIDIA driver >552.44 As an interim solution - you can rollback your drivers to the 552.44."
   ]
  },
  {
   "cell_type": "markdown",
   "metadata": {
    "id": "5CtcL8P8R6yt"
   },
   "source": [
    "## Table of Contents:\n",
    "\n",
    "- Task 1: Imports and Utilities\n",
    "- Task 2: Documents\n",
    "- Task 3: Embeddings and Vectors\n",
    "- Task 4: Prompts\n",
    "- Task 5: Retrieval Augmented Generation\n",
    "  - 🚧 Activity #1: Augment RAG"
   ]
  },
  {
   "cell_type": "markdown",
   "metadata": {
    "id": "1Dz6GYilR6yt"
   },
   "source": [
    "Let's look at a rather complicated looking visual representation of a basic RAG application.\n",
    "\n",
    "<img src=\"https://i.imgur.com/vD8b016.png\" />"
   ]
  },
  {
   "cell_type": "markdown",
   "metadata": {
    "id": "PjmC0KFtR6yt"
   },
   "source": [
    "## Task 1: Imports and Utility\n",
    "\n",
    "We're just doing some imports and enabling `async` to work within the Jupyter environment here, nothing too crazy!"
   ]
  },
  {
   "cell_type": "code",
   "execution_count": 1,
   "metadata": {
    "id": "Z1dyrG4hR6yt"
   },
   "outputs": [],
   "source": [
    "from aimakerspace.text_utils import TextFileLoader, CharacterTextSplitter\n",
    "from aimakerspace.vectordatabase import VectorDatabase\n",
    "import asyncio"
   ]
  },
  {
   "cell_type": "code",
   "execution_count": 2,
   "metadata": {
    "id": "9OrFZRnER6yt"
   },
   "outputs": [],
   "source": [
    "import nest_asyncio\n",
    "nest_asyncio.apply()"
   ]
  },
  {
   "cell_type": "markdown",
   "metadata": {
    "id": "M0jGnpQsR6yu"
   },
   "source": [
    "## Task 2: Documents\n",
    "\n",
    "We'll be concerning ourselves with this part of the flow in the following section:\n",
    "\n",
    "<img src=\"https://i.imgur.com/jTm9gjk.png\" />"
   ]
  },
  {
   "cell_type": "markdown",
   "metadata": {
    "id": "-SFPWvRUR6yu"
   },
   "source": [
    "### Loading Source Documents\n",
    "\n",
    "So, first things first, we need some documents to work with.\n",
    "\n",
    "While we could work directly with the `.txt` files (or whatever file-types you wanted to extend this to) we can instead do some batch processing of those documents at the beginning in order to store them in a more machine compatible format.\n",
    "\n",
    "In this case, we're going to parse our text file into a single document in memory.\n",
    "\n",
    "Let's look at the relevant bits of the `TextFileLoader` class:\n",
    "\n",
    "```python\n",
    "def load_file(self):\n",
    "        with open(self.path, \"r\", encoding=self.encoding) as f:\n",
    "            self.documents.append(f.read())\n",
    "```\n",
    "\n",
    "We're simply loading the document using the built in `open` method, and storing that output in our `self.documents` list.\n",
    "\n",
    "> NOTE: We're using blogs from PMarca (Marc Andreessen) as our sample data. This data is largely irrelevant as we want to focus on the mechanisms of RAG, which includes out data's shape and quality - but not specifically what the contents of the data are. \n"
   ]
  },
  {
   "cell_type": "code",
   "execution_count": 3,
   "metadata": {
    "colab": {
     "base_uri": "https://localhost:8080/"
    },
    "id": "Ia2sUEuGR6yu",
    "outputId": "84937ecc-c35f-4c4a-a4ab-9da72625954c"
   },
   "outputs": [
    {
     "data": {
      "text/plain": [
       "1"
      ]
     },
     "execution_count": 3,
     "metadata": {},
     "output_type": "execute_result"
    }
   ],
   "source": [
    "text_loader = TextFileLoader(\"data/PMarcaBlogs.txt\")\n",
    "documents = text_loader.load_documents()\n",
    "len(documents)"
   ]
  },
  {
   "cell_type": "code",
   "execution_count": 4,
   "metadata": {
    "colab": {
     "base_uri": "https://localhost:8080/"
    },
    "id": "bV-tj5WFR6yu",
    "outputId": "674eb315-1ff3-4597-bcf5-38ece0a812ac"
   },
   "outputs": [
    {
     "name": "stdout",
     "output_type": "stream",
     "text": [
      "﻿\n",
      "The Pmarca Blog Archives\n",
      "(select posts from 2007-2009)\n",
      "Marc Andreessen\n",
      "copyright: Andreessen Horow\n"
     ]
    }
   ],
   "source": [
    "print(documents[0][:100])"
   ]
  },
  {
   "cell_type": "markdown",
   "metadata": {
    "id": "nHlTvCzYR6yu"
   },
   "source": [
    "### Splitting Text Into Chunks\n",
    "\n",
    "As we can see, there is one massive document.\n",
    "\n",
    "We'll want to chunk the document into smaller parts so it's easier to pass the most relevant snippets to the LLM.\n",
    "\n",
    "There is no fixed way to split/chunk documents - and you'll need to rely on some intuition as well as knowing your data *very* well in order to build the most robust system.\n",
    "\n",
    "For this toy example, we'll just split blindly on length.\n",
    "\n",
    ">There's an opportunity to clear up some terminology here, for this course we will be stick to the following:\n",
    ">\n",
    ">- \"source documents\" : The `.txt`, `.pdf`, `.html`, ..., files that make up the files and information we start with in its raw format\n",
    ">- \"document(s)\" : single (or more) text object(s)\n",
    ">- \"corpus\" : the combination of all of our documents"
   ]
  },
  {
   "cell_type": "markdown",
   "metadata": {
    "id": "2G6Voc0jR6yv"
   },
   "source": [
    "As you can imagine (though it's not specifically true in this toy example) the idea of splitting documents is to break them into managable sized chunks that retain the most relevant local context."
   ]
  },
  {
   "cell_type": "code",
   "execution_count": 5,
   "metadata": {
    "colab": {
     "base_uri": "https://localhost:8080/"
    },
    "id": "UMC4tsEmR6yv",
    "outputId": "08689c0b-57cd-4040-942a-8193e997f5cb"
   },
   "outputs": [
    {
     "data": {
      "text/plain": [
       "373"
      ]
     },
     "execution_count": 5,
     "metadata": {},
     "output_type": "execute_result"
    }
   ],
   "source": [
    "text_splitter = CharacterTextSplitter()\n",
    "split_documents = text_splitter.split_texts(documents)\n",
    "len(split_documents)"
   ]
  },
  {
   "cell_type": "markdown",
   "metadata": {
    "id": "W2wKT0WLR6yv"
   },
   "source": [
    "Let's take a look at some of the documents we've managed to split."
   ]
  },
  {
   "cell_type": "code",
   "execution_count": 6,
   "metadata": {
    "colab": {
     "base_uri": "https://localhost:8080/"
    },
    "id": "vcYMwWJoR6yv",
    "outputId": "20d69876-feca-4826-b4be-32915276987a"
   },
   "outputs": [
    {
     "data": {
      "text/plain": [
       "['\\ufeff\\nThe Pmarca Blog Archives\\n(select posts from 2007-2009)\\nMarc Andreessen\\ncopyright: Andreessen Horowitz\\ncover design: Jessica Hagy\\nproduced using: Pressbooks\\nContents\\nTHE PMARCA GUIDE TO STARTUPS\\nPart 1: Why not to do a startup 2\\nPart 2: When the VCs say \"no\" 10\\nPart 3: \"But I don\\'t know any VCs!\" 18\\nPart 4: The only thing that matters 25\\nPart 5: The Moby Dick theory of big companies 33\\nPart 6: How much funding is too little? Too much? 41\\nPart 7: Why a startup\\'s initial business plan doesn\\'t\\nmatter that much\\n49\\nTHE PMARCA GUIDE TO HIRING\\nPart 8: Hiring, managing, promoting, and Dring\\nexecutives\\n54\\nPart 9: How to hire a professional CEO 68\\nHow to hire the best people you\\'ve ever worked\\nwith\\n69\\nTHE PMARCA GUIDE TO BIG COMPANIES\\nPart 1: Turnaround! 82\\nPart 2: Retaining great people 86\\nTHE PMARCA GUIDE TO CAREER, PRODUCTIVITY,\\nAND SOME OTHER THINGS\\nIntroduction 97\\nPart 1: Opportunity 99\\nPart 2: Skills and education 107\\nPart 3: Where to go and why 120\\nThe Pmarca Guide to Personal Productivi']"
      ]
     },
     "execution_count": 6,
     "metadata": {},
     "output_type": "execute_result"
    }
   ],
   "source": [
    "split_documents[0:1]"
   ]
  },
  {
   "cell_type": "markdown",
   "metadata": {
    "id": "HOU-RFP_R6yv"
   },
   "source": [
    "## Task 3: Embeddings and Vectors\n",
    "\n",
    "Next, we have to convert our corpus into a \"machine readable\" format as we explored in the Embedding Primer notebook.\n",
    "\n",
    "Today, we're going to talk about the actual process of creating, and then storing, these embeddings, and how we can leverage that to intelligently add context to our queries."
   ]
  },
  {
   "cell_type": "markdown",
   "metadata": {},
   "source": [
    "### OpenAI API Key\n",
    "\n",
    "In order to access OpenAI's APIs, we'll need to provide our OpenAI API Key!\n",
    "\n",
    "You can work through the folder \"OpenAI API Key Setup\" for more information on this process if you don't already have an API Key!"
   ]
  },
  {
   "cell_type": "code",
   "execution_count": 7,
   "metadata": {},
   "outputs": [
    {
     "name": "stdin",
     "output_type": "stream",
     "text": [
      "OpenAI API Key:  ········\n"
     ]
    }
   ],
   "source": [
    "import os\n",
    "import openai\n",
    "from getpass import getpass\n",
    "\n",
    "openai.api_key = getpass(\"OpenAI API Key: \")\n",
    "os.environ[\"OPENAI_API_KEY\"] = openai.api_key"
   ]
  },
  {
   "cell_type": "markdown",
   "metadata": {},
   "source": [
    "### Vector Database\n",
    "\n",
    "Let's set up our vector database to hold all our documents and their embeddings!"
   ]
  },
  {
   "cell_type": "markdown",
   "metadata": {
    "id": "kDQrfAR1R6yv"
   },
   "source": [
    "While this is all baked into 1 call - we can look at some of the code that powers this process to get a better understanding:\n",
    "\n",
    "Let's look at our `VectorDatabase().__init__()`:\n",
    "\n",
    "```python\n",
    "def __init__(self, embedding_model: EmbeddingModel = None):\n",
    "        self.vectors = defaultdict(np.array)\n",
    "        self.embedding_model = embedding_model or EmbeddingModel()\n",
    "```\n",
    "\n",
    "As you can see - our vectors are merely stored as a dictionary of `np.array` objects.\n",
    "\n",
    "Secondly, our `VectorDatabase()` has a default `EmbeddingModel()` which is a wrapper for OpenAI's `text-embedding-3-small` model.\n",
    "\n",
    "> **Quick Info About `text-embedding-3-small`**:\n",
    "> - It has a context window of **8191** tokens\n",
    "> - It returns vectors with dimension **1536**"
   ]
  },
  {
   "cell_type": "markdown",
   "metadata": {
    "id": "L273pRdeR6yv"
   },
   "source": [
    "#### ❓Question #1:\n",
    "\n",
    "The default embedding dimension of `text-embedding-3-small` is 1536, as noted above. \n",
    "\n",
    "1. Is there any way to modify this dimension?\n",
    "2. What technique does OpenAI use to achieve this?\n",
    "\n",
    "> NOTE: Check out this [API documentation](https://platform.openai.com/docs/api-reference/embeddings/create) for the answer to question #1.1, and [this documentation](https://platform.openai.com/docs/guides/embeddings/use-cases) for an answer to question #1.2!\n"
   ]
  },
  {
   "cell_type": "markdown",
   "metadata": {},
   "source": [
    "##### ✅ Answer:\n",
    "1. Yes, the text-embedding-3-small is one of the newer models that have a parameter to control the overall size. By default the length of the embedding vector is 1536, but it can be reduced without losing its concept-representing properties through the dimensions parameter. \n",
    "2. OpenAI uses text embeddings to represent the semantic meaning of text strings as vectors of floating-point numbers, where the distance between vectors reflects relatedness (shorter distance = more related, bigger distance = less related). Embeddings are commonly used for search, clustering, recommendations, anomaly detection, diversity measurement, and classification. Larger embeddings generally consume more compute, memory, and storage, while smaller embeddings are more efficient. The dimensions parameter allows developers to trade off between embedding size, performance, and cost, shortening embeddings without losing their core semantic properties.\n"
   ]
  },
  {
   "cell_type": "markdown",
   "metadata": {
    "id": "w5FZY7K3R6yv"
   },
   "source": [
    "We can call the `async_get_embeddings` method of our `EmbeddingModel()` on a list of `str` and receive a list of `float` back!\n",
    "\n",
    "```python\n",
    "async def async_get_embeddings(self, list_of_text: List[str]) -> List[List[float]]:\n",
    "        return await aget_embeddings(\n",
    "            list_of_text=list_of_text, engine=self.embeddings_model_name\n",
    "        )\n",
    "```"
   ]
  },
  {
   "cell_type": "markdown",
   "metadata": {
    "id": "cSct6X0aR6yv"
   },
   "source": [
    "We cast those to `np.array` when we build our `VectorDatabase()`:\n",
    "\n",
    "```python\n",
    "async def abuild_from_list(self, list_of_text: List[str]) -> \"VectorDatabase\":\n",
    "        embeddings = await self.embedding_model.async_get_embeddings(list_of_text)\n",
    "        for text, embedding in zip(list_of_text, embeddings):\n",
    "            self.insert(text, np.array(embedding))\n",
    "        return self\n",
    "```\n",
    "\n",
    "And that's all we need to do!"
   ]
  },
  {
   "cell_type": "code",
   "execution_count": 8,
   "metadata": {
    "id": "O4KoLbVDR6yv"
   },
   "outputs": [],
   "source": [
    "vector_db = VectorDatabase()\n",
    "vector_db = asyncio.run(vector_db.abuild_from_list(split_documents))"
   ]
  },
  {
   "cell_type": "markdown",
   "metadata": {
    "id": "SSZwaGvpR6yv"
   },
   "source": [
    "#### ❓Question #2:\n",
    "\n",
    "What are the benefits of using an `async` approach to collecting our embeddings?\n",
    "\n",
    "> NOTE: Determining the core difference between `async` and `sync` will be useful! If you get stuck - ask ChatGPT!"
   ]
  },
  {
   "cell_type": "markdown",
   "metadata": {},
   "source": [
    "##### ✅ Answer: Depending on the task and the amount of data, it’s better to choose async for larger or more complex embedding tasks. Sync runs each embedding one after another, while async allows multiple embeddings to be requested at the same time, collecting results as they finish. Async is faster for large datasets, reduces overall runtime, uses resources more efficiently, and can lower costs. It also improves scalability and is especially helpful for real-time applications, like search or recommendations, or when multiple users are making requests at the same time. "
   ]
  },
  {
   "cell_type": "markdown",
   "metadata": {
    "id": "nRBdIt-xR6yw"
   },
   "source": [
    "So, to review what we've done so far in natural language:\n",
    "\n",
    "1. We load source documents\n",
    "2. We split those source documents into smaller chunks (documents)\n",
    "3. We send each of those documents to the `text-embedding-3-small` OpenAI API endpoint\n",
    "4. We store each of the text representations with the vector representations as keys/values in a dictionary"
   ]
  },
  {
   "cell_type": "markdown",
   "metadata": {
    "id": "4-vWANZyR6yw"
   },
   "source": [
    "### Semantic Similarity\n",
    "\n",
    "The next step is to be able to query our `VectorDatabase()` with a `str` and have it return to us vectors and text that is most relevant from our corpus.\n",
    "\n",
    "We're going to use the following process to achieve this in our toy example:\n",
    "\n",
    "1. We need to embed our query with the same `EmbeddingModel()` as we used to construct our `VectorDatabase()`\n",
    "2. We loop through every vector in our `VectorDatabase()` and use a distance measure to compare how related they are\n",
    "3. We return a list of the top `k` closest vectors, with their text representations\n",
    "\n",
    "There's some very heavy optimization that can be done at each of these steps - but let's just focus on the basic pattern in this notebook.\n",
    "\n",
    "> We are using [cosine similarity](https://www.engati.com/glossary/cosine-similarity) as a distance metric in this example - but there are many many distance metrics you could use - like [these](https://flavien-vidal.medium.com/similarity-distances-for-natural-language-processing-16f63cd5ba55)\n",
    "\n",
    "> We are using a rather inefficient way of calculating relative distance between the query vector and all other vectors - there are more advanced approaches that are much more efficient, like [ANN](https://towardsdatascience.com/comprehensive-guide-to-approximate-nearest-neighbors-algorithms-8b94f057d6b6)"
   ]
  },
  {
   "cell_type": "code",
   "execution_count": 9,
   "metadata": {
    "colab": {
     "base_uri": "https://localhost:8080/"
    },
    "id": "76d96uavR6yw",
    "outputId": "bbfccc31-20a2-41c7-c14d-46554a43ed2d"
   },
   "outputs": [
    {
     "data": {
      "text/plain": [
       "[('ordingly.\\nSeventh, when hiring the executive to run your former specialty, be\\ncareful you don’t hire someone weak on purpose.\\nThis sounds silly, but you wouldn’t believe how oaen it happens.\\nThe CEO who used to be a product manager who has a weak\\nproduct management executive. The CEO who used to be in\\nsales who has a weak sales executive. The CEO who used to be\\nin marketing who has a weak marketing executive.\\nI call this the “Michael Eisner Memorial Weak Executive Problem” — aaer the CEO of Disney who had previously been a brilliant TV network executive. When he bought ABC at Disney, it\\npromptly fell to fourth place. His response? “If I had an extra\\ntwo days a week, I could turn around ABC myself.” Well, guess\\nwhat, he didn’t have an extra two days a week.\\nA CEO — or a startup founder — oaen has a hard time letting\\ngo of the function that brought him to the party. The result: you\\nhire someone weak into the executive role for that function so\\nthat you can continue to be “the man” — cons',\n",
       "  np.float64(0.6538563767462544)),\n",
       " ('m. They have areas where they are truly deXcient in judgment or skill set. That’s just life. Almost nobody is brilliant\\nat everything. When hiring and when Hring executives, you\\nmust therefore focus on strength rather than lack of weakness. Everybody has severe weaknesses even if you can’t see\\nthem yet. When managing, it’s oaen useful to micromanage and\\nto provide remedial training around these weaknesses. Doing so\\nmay make the diWerence between an executive succeeding or\\nfailing.\\nFor example, you might have a brilliant engineering executive\\nwho generates excellent team loyalty, has terriXc product judgment and makes the trains run on time. This same executive\\nmay be very poor at relating to the other functions in the company. She may generate far more than her share of cross-functional conYicts, cut herself oW from critical information, and\\nsigniXcantly impede your ability to sell and market eWectively.\\nYour alternatives are:\\n(a) Macro-manage and give her an annual or quarterly object',\n",
       "  np.float64(0.5036012174947991)),\n",
       " ('ed?\\nIn reality — as opposed to Marc’s warped view of reality — it will\\nbe extremely helpful for Marc [if he were actually the CEO,\\nwhich he is not] to meet with the new head of engineering daily\\nwhen she comes on board and review all of her thinking and\\ndecisions. This level of micromanagement will accelerate her\\ntraining and improve her long-term eWectiveness. It will make\\nher seem smarter to the rest of the organization which will build\\ncredibility and conXdence while she comes up to speed. Micromanaging new executives is generally a good idea for a limited\\nperiod of time.\\nHowever, that is not the only time that it makes sense to micro66 The Pmarca Blog Archives\\nmanage executives. It turns out that just about every executive\\nin the world has a few things that are seriously wrong with\\nthem. They have areas where they are truly deXcient in judgment or skill set. That’s just life. Almost nobody is brilliant\\nat everything. When hiring and when Hring executives, you\\nmust therefore focus o',\n",
       "  np.float64(0.4814102594977527))]"
      ]
     },
     "execution_count": 9,
     "metadata": {},
     "output_type": "execute_result"
    }
   ],
   "source": [
    "vector_db.search_by_text(\"What is the Michael Eisner Memorial Weak Executive Problem?\", k=3)"
   ]
  },
  {
   "cell_type": "markdown",
   "metadata": {
    "id": "TehsfIiKR6yw"
   },
   "source": [
    "## Task 4: Prompts\n",
    "\n",
    "In the following section, we'll be looking at the role of prompts - and how they help us to guide our application in the right direction.\n",
    "\n",
    "In this notebook, we're going to rely on the idea of \"zero-shot in-context learning\".\n",
    "\n",
    "This is a lot of words to say: \"We will ask it to perform our desired task in the prompt, and provide no examples.\""
   ]
  },
  {
   "cell_type": "markdown",
   "metadata": {
    "id": "yXpA0UveR6yw"
   },
   "source": [
    "### XYZRolePrompt\n",
    "\n",
    "Before we do that, let's stop and think a bit about how OpenAI's chat models work.\n",
    "\n",
    "We know they have roles - as is indicated in the following API [documentation](https://platform.openai.com/docs/api-reference/chat/create#chat/create-messages)\n",
    "\n",
    "There are three roles, and they function as follows (taken directly from [OpenAI](https://platform.openai.com/docs/guides/gpt/chat-completions-api)):\n",
    "\n",
    "- `{\"role\" : \"system\"}` : The system message helps set the behavior of the assistant. For example, you can modify the personality of the assistant or provide specific instructions about how it should behave throughout the conversation. However note that the system message is optional and the model’s behavior without a system message is likely to be similar to using a generic message such as \"You are a helpful assistant.\"\n",
    "- `{\"role\" : \"user\"}` : The user messages provide requests or comments for the assistant to respond to.\n",
    "- `{\"role\" : \"assistant\"}` : Assistant messages store previous assistant responses, but can also be written by you to give examples of desired behavior.\n",
    "\n",
    "The main idea is this:\n",
    "\n",
    "1. You start with a system message that outlines how the LLM should respond, what kind of behaviours you can expect from it, and more\n",
    "2. Then, you can provide a few examples in the form of \"assistant\"/\"user\" pairs\n",
    "3. Then, you prompt the model with the true \"user\" message.\n",
    "\n",
    "In this example, we'll be forgoing the 2nd step for simplicities sake."
   ]
  },
  {
   "cell_type": "markdown",
   "metadata": {
    "id": "gdZ2KWKSR6yw"
   },
   "source": [
    "#### Utility Functions\n",
    "\n",
    "You'll notice that we're using some utility functions from the `aimakerspace` module - let's take a peek at these and see what they're doing!"
   ]
  },
  {
   "cell_type": "markdown",
   "metadata": {
    "id": "GFbeJDDsR6yw"
   },
   "source": [
    "##### XYZRolePrompt"
   ]
  },
  {
   "cell_type": "markdown",
   "metadata": {
    "id": "5mojJSE3R6yw"
   },
   "source": [
    "Here we have our `system`, `user`, and `assistant` role prompts.\n",
    "\n",
    "Let's take a peek at what they look like:\n",
    "\n",
    "```python\n",
    "class BasePrompt:\n",
    "    def __init__(self, prompt):\n",
    "        \"\"\"\n",
    "        Initializes the BasePrompt object with a prompt template.\n",
    "\n",
    "        :param prompt: A string that can contain placeholders within curly braces\n",
    "        \"\"\"\n",
    "        self.prompt = prompt\n",
    "        self._pattern = re.compile(r\"\\{([^}]+)\\}\")\n",
    "\n",
    "    def format_prompt(self, **kwargs):\n",
    "        \"\"\"\n",
    "        Formats the prompt string using the keyword arguments provided.\n",
    "\n",
    "        :param kwargs: The values to substitute into the prompt string\n",
    "        :return: The formatted prompt string\n",
    "        \"\"\"\n",
    "        matches = self._pattern.findall(self.prompt)\n",
    "        return self.prompt.format(**{match: kwargs.get(match, \"\") for match in matches})\n",
    "\n",
    "    def get_input_variables(self):\n",
    "        \"\"\"\n",
    "        Gets the list of input variable names from the prompt string.\n",
    "\n",
    "        :return: List of input variable names\n",
    "        \"\"\"\n",
    "        return self._pattern.findall(self.prompt)\n",
    "```\n",
    "\n",
    "Then we have our `RolePrompt` which laser focuses us on the role pattern found in most API endpoints for LLMs.\n",
    "\n",
    "```python\n",
    "class RolePrompt(BasePrompt):\n",
    "    def __init__(self, prompt, role: str):\n",
    "        \"\"\"\n",
    "        Initializes the RolePrompt object with a prompt template and a role.\n",
    "\n",
    "        :param prompt: A string that can contain placeholders within curly braces\n",
    "        :param role: The role for the message ('system', 'user', or 'assistant')\n",
    "        \"\"\"\n",
    "        super().__init__(prompt)\n",
    "        self.role = role\n",
    "\n",
    "    def create_message(self, **kwargs):\n",
    "        \"\"\"\n",
    "        Creates a message dictionary with a role and a formatted message.\n",
    "\n",
    "        :param kwargs: The values to substitute into the prompt string\n",
    "        :return: Dictionary containing the role and the formatted message\n",
    "        \"\"\"\n",
    "        return {\"role\": self.role, \"content\": self.format_prompt(**kwargs)}\n",
    "```\n",
    "\n",
    "We'll look at how the `SystemRolePrompt` is constructed to get a better idea of how that extension works:\n",
    "\n",
    "```python\n",
    "class SystemRolePrompt(RolePrompt):\n",
    "    def __init__(self, prompt: str):\n",
    "        super().__init__(prompt, \"system\")\n",
    "```\n",
    "\n",
    "That pattern is repeated for our `UserRolePrompt` and our `AssistantRolePrompt` as well."
   ]
  },
  {
   "cell_type": "markdown",
   "metadata": {
    "id": "D361R6sMR6yw"
   },
   "source": [
    "##### ChatOpenAI"
   ]
  },
  {
   "cell_type": "markdown",
   "metadata": {
    "id": "HJVQ2Pm8R6yw"
   },
   "source": [
    "Next we have our model, which is converted to a format analagous to libraries like LangChain and LlamaIndex.\n",
    "\n",
    "Let's take a peek at how that is constructed:\n",
    "\n",
    "```python\n",
    "class ChatOpenAI:\n",
    "    def __init__(self, model_name: str = \"gpt-4.1-mini\"):\n",
    "        self.model_name = model_name\n",
    "        self.openai_api_key = os.getenv(\"OPENAI_API_KEY\")\n",
    "        if self.openai_api_key is None:\n",
    "            raise ValueError(\"OPENAI_API_KEY is not set\")\n",
    "\n",
    "    def run(self, messages, text_only: bool = True):\n",
    "        if not isinstance(messages, list):\n",
    "            raise ValueError(\"messages must be a list\")\n",
    "\n",
    "        openai.api_key = self.openai_api_key\n",
    "        response = openai.ChatCompletion.create(\n",
    "            model=self.model_name, messages=messages\n",
    "        )\n",
    "\n",
    "        if text_only:\n",
    "            return response.choices[0].message.content\n",
    "\n",
    "        return response\n",
    "```"
   ]
  },
  {
   "cell_type": "markdown",
   "metadata": {
    "id": "qCU7FfhIR6yw"
   },
   "source": [
    "#### ❓ Question #3:\n",
    "\n",
    "When calling the OpenAI API - are there any ways we can achieve more reproducible outputs?\n",
    "\n",
    "> NOTE: Check out [this section](https://platform.openai.com/docs/guides/text-generation/) of the OpenAI documentation for the answer!"
   ]
  },
  {
   "cell_type": "markdown",
   "metadata": {},
   "source": [
    "##### ✅ Answer:\n",
    "The content generated from a model is non-deterministic, but there are techniques to achieve more consistent results. Pinning your production application to specific model snapshots helps ensure stable behavior over time. You can also build evaluations that measure the behavior of your prompts so you can monitor performance as you iterate or when you upgrade models. Additionally, you can give the model high-level instructions through the API (such as tone, goals, or examples of correct responses). These developer messages take priority over user input and help enforce consistency. Another technique is to use reusable prompts defined in the dashboard rather than hardcoding them, which allows you to improve and deploy updated prompts without changing your integration code.\n"
   ]
  },
  {
   "cell_type": "markdown",
   "metadata": {
    "id": "c5wcjMLCR6yw"
   },
   "source": [
    "### Creating and Prompting OpenAI's `gpt-4.1-mini`!\n",
    "\n",
    "Let's tie all these together and use it to prompt `gpt-4.1-mini`!"
   ]
  },
  {
   "cell_type": "code",
   "execution_count": 10,
   "metadata": {
    "id": "WIfpIot7R6yw"
   },
   "outputs": [],
   "source": [
    "from aimakerspace.openai_utils.prompts import (\n",
    "    UserRolePrompt,\n",
    "    SystemRolePrompt,\n",
    "    AssistantRolePrompt,\n",
    ")\n",
    "\n",
    "from aimakerspace.openai_utils.chatmodel import ChatOpenAI\n",
    "\n",
    "chat_openai = ChatOpenAI()\n",
    "user_prompt_template = \"{content}\"\n",
    "user_role_prompt = UserRolePrompt(user_prompt_template)\n",
    "system_prompt_template = (\n",
    "    \"You are an expert in {expertise}, you always answer in a kind way.\"\n",
    ")\n",
    "system_role_prompt = SystemRolePrompt(system_prompt_template)\n",
    "\n",
    "messages = [\n",
    "    system_role_prompt.create_message(expertise=\"Python\"),\n",
    "    user_role_prompt.create_message(\n",
    "        content=\"What is the best way to write a loop?\"\n",
    "    ),\n",
    "]\n",
    "\n",
    "response = chat_openai.run(messages)"
   ]
  },
  {
   "cell_type": "code",
   "execution_count": 11,
   "metadata": {
    "colab": {
     "base_uri": "https://localhost:8080/"
    },
    "id": "dHo7lssNR6yw",
    "outputId": "1d3823fa-bb6b-45f6-ddba-b41686388324"
   },
   "outputs": [
    {
     "name": "stdout",
     "output_type": "stream",
     "text": [
      "Hello! The best way to write a loop in Python depends on what you want to achieve, but generally, using a `for` loop is clear and Pythonic for iterating over sequences like lists, strings, or ranges. Here's an example of a simple `for` loop:\n",
      "\n",
      "```python\n",
      "for i in range(5):\n",
      "    print(i)\n",
      "```\n",
      "\n",
      "This will print numbers from 0 to 4.\n",
      "\n",
      "If you need to loop while a certain condition is true, a `while` loop might be more appropriate:\n",
      "\n",
      "```python\n",
      "count = 0\n",
      "while count < 5:\n",
      "    print(count)\n",
      "    count += 1\n",
      "```\n",
      "\n",
      "If you want, I can help you with more specific examples or best practices depending on your task. Just let me know! 😊\n"
     ]
    }
   ],
   "source": [
    "print(response)"
   ]
  },
  {
   "cell_type": "markdown",
   "metadata": {
    "id": "r2nxxhB2R6yy"
   },
   "source": [
    "## Task 5: Retrieval Augmented Generation\n",
    "\n",
    "Now we can create a RAG prompt - which will help our system behave in a way that makes sense!\n",
    "\n",
    "There is much you could do here, many tweaks and improvements to be made!"
   ]
  },
  {
   "cell_type": "code",
   "execution_count": 12,
   "metadata": {
    "id": "D1hamzGaR6yy"
   },
   "outputs": [],
   "source": [
    "RAG_SYSTEM_TEMPLATE = \"\"\"You are a knowledgeable assistant that answers questions based strictly on provided context.\n",
    "\n",
    "Instructions:\n",
    "- Only answer questions using information from the provided context\n",
    "- If the context doesn't contain relevant information, respond with \"I don't know\"\n",
    "- Be accurate and cite specific parts of the context when possible\n",
    "- Keep responses {response_style} and {response_length}\n",
    "- Only use the provided context. Do not use external knowledge.\n",
    "- Only provide answers when you are confident the context supports your response.\"\"\"\n",
    "\n",
    "RAG_USER_TEMPLATE = \"\"\"Context Information:\n",
    "{context}\n",
    "\n",
    "Number of relevant sources found: {context_count}\n",
    "{similarity_scores}\n",
    "\n",
    "Question: {user_query}\n",
    "\n",
    "Please provide your answer based solely on the context above.\"\"\"\n",
    "\n",
    "rag_system_prompt = SystemRolePrompt(\n",
    "    RAG_SYSTEM_TEMPLATE,\n",
    "    strict=True,\n",
    "    defaults={\n",
    "        \"response_style\": \"concise\",\n",
    "        \"response_length\": \"brief\"\n",
    "    }\n",
    ")\n",
    "\n",
    "rag_user_prompt = UserRolePrompt(\n",
    "    RAG_USER_TEMPLATE,\n",
    "    strict=True,\n",
    "    defaults={\n",
    "        \"context_count\": \"\",\n",
    "        \"similarity_scores\": \"\"\n",
    "    }\n",
    ")"
   ]
  },
  {
   "cell_type": "markdown",
   "metadata": {},
   "source": [
    "Now we can create our pipeline!"
   ]
  },
  {
   "cell_type": "code",
   "execution_count": 13,
   "metadata": {},
   "outputs": [],
   "source": [
    "class RetrievalAugmentedQAPipeline:\n",
    "    def __init__(self, llm: ChatOpenAI, vector_db_retriever: VectorDatabase, \n",
    "                 response_style: str = \"detailed\", include_scores: bool = False) -> None:\n",
    "        self.llm = llm\n",
    "        self.vector_db_retriever = vector_db_retriever\n",
    "        self.response_style = response_style\n",
    "        self.include_scores = include_scores\n",
    "\n",
    "    def run_pipeline(self, user_query: str, k: int = 4, **system_kwargs) -> dict:\n",
    "        # Retrieve relevant contexts\n",
    "        context_list = self.vector_db_retriever.search_by_text(user_query, k=k)\n",
    "        \n",
    "        context_prompt = \"\"\n",
    "        similarity_scores = []\n",
    "        \n",
    "        for i, (context, score) in enumerate(context_list, 1):\n",
    "            context_prompt += f\"[Source {i}]: {context}\\n\\n\"\n",
    "            similarity_scores.append(f\"Source {i}: {score:.3f}\")\n",
    "        \n",
    "        # Create system message with parameters\n",
    "        system_params = {\n",
    "            \"response_style\": self.response_style,\n",
    "            \"response_length\": system_kwargs.get(\"response_length\", \"detailed\")\n",
    "        }\n",
    "        \n",
    "        formatted_system_prompt = rag_system_prompt.create_message(**system_params)\n",
    "        \n",
    "        user_params = {\n",
    "            \"user_query\": user_query,\n",
    "            \"context\": context_prompt.strip(),\n",
    "            \"context_count\": len(context_list),\n",
    "            \"similarity_scores\": f\"Relevance scores: {', '.join(similarity_scores)}\" if self.include_scores else \"\"\n",
    "        }\n",
    "        \n",
    "        formatted_user_prompt = rag_user_prompt.create_message(**user_params)\n",
    "\n",
    "        return {\n",
    "            \"response\": self.llm.run([formatted_system_prompt, formatted_user_prompt]), \n",
    "            \"context\": context_list,\n",
    "            \"context_count\": len(context_list),\n",
    "            \"similarity_scores\": similarity_scores if self.include_scores else None,\n",
    "            \"prompts_used\": {\n",
    "                \"system\": formatted_system_prompt,\n",
    "                \"user\": formatted_user_prompt\n",
    "            }\n",
    "        }"
   ]
  },
  {
   "cell_type": "code",
   "execution_count": 14,
   "metadata": {},
   "outputs": [
    {
     "name": "stdout",
     "output_type": "stream",
     "text": [
      "Response: The \"Michael Eisner Memorial Weak Executive Problem\" refers to the phenomenon where a CEO, who was formerly successful in a particular function (such as product management, sales, or marketing), ends up hiring a weak executive to run that same function after the CEO has moved on to a broader role. This happens because the CEO has a hard time letting go of the function that brought them success and wants to remain \"the man\" in that area. The example given is Michael Eisner, the CEO of Disney, who had previously been a brilliant TV network executive. When he bought ABC, the network dropped to fourth place, but Eisner claimed that if he had extra time, he could have turned ABC around himself. However, he did not, illustrating how hiring a weak executive for the CEO's former specialty can harm that function (Source 1).\n",
      "\n",
      "Context Count: 3\n",
      "Similarity Scores: ['Source 1: 0.658', 'Source 2: 0.509', 'Source 3: 0.479']\n"
     ]
    }
   ],
   "source": [
    "rag_pipeline = RetrievalAugmentedQAPipeline(\n",
    "    vector_db_retriever=vector_db,\n",
    "    llm=chat_openai,\n",
    "    response_style=\"detailed\",\n",
    "    include_scores=True\n",
    ")\n",
    "\n",
    "result = rag_pipeline.run_pipeline(\n",
    "    \"What is the 'Michael Eisner Memorial Weak Executive Problem'?\",\n",
    "    k=3,\n",
    "    response_length=\"comprehensive\", \n",
    "    include_warnings=True,\n",
    "    confidence_required=True\n",
    ")\n",
    "\n",
    "print(f\"Response: {result['response']}\")\n",
    "print(f\"\\nContext Count: {result['context_count']}\")\n",
    "print(f\"Similarity Scores: {result['similarity_scores']}\")"
   ]
  },
  {
   "cell_type": "markdown",
   "metadata": {
    "id": "zZIJI19uR6yz"
   },
   "source": [
    "#### ❓ Question #4:\n",
    "\n",
    "What prompting strategies could you use to make the LLM have a more thoughtful, detailed response?\n",
    "\n",
    "What is that strategy called?\n",
    "\n",
    "> NOTE: You can look through our [OpenAI Responses API](https://colab.research.google.com/drive/14SCfRnp39N7aoOx8ZxadWb0hAqk4lQdL?usp=sharing) notebook for an answer to this question if you get stuck!"
   ]
  },
  {
   "cell_type": "markdown",
   "metadata": {},
   "source": [
    "##### ✅ Answer:\n",
    "To have the LLM create more thoughtful and detailed responses, there are several prompting strategies that can help (based on reasoning-based prompting to encourage the model to “think” more deeply).First, chain-of-thought prompting, where you ask the model to think step-by-step or explain its reasoning before answering. Another option is deliberation prompting, which encourages the model to spend more time reasoning and produce deeper, more structured outputs. This is also where you can change the reasoning parameter to control how much computational effort the model puts into reasoning.Instructional scaffolding helps break the request into stages (for example: first list these factors, then analyze the list, then conclude with recommendations). Role prompting can change the level of depth and framing by asking the model to answer as an expert, researcher, or advisor. Lastly, self-critique (reflection) asks the model to give an answer and then review it for weaknesses and ways to improve.\n"
   ]
  },
  {
   "cell_type": "markdown",
   "metadata": {},
   "source": [
    "### 🏗️ Activity #1:\n",
    "\n",
    "Enhance your RAG application in some way! \n",
    "\n",
    "Suggestions are: \n",
    "\n",
    "- Allow it to work with PDF files\n",
    "- Implement a new distance metric\n",
    "- Add metadata support to the vector database\n",
    "- Use a different embedding model\n",
    "- Add the capability to ingest a YouTube link\n",
    "\n",
    "While these are suggestions, you should feel free to make whatever augmentations you desire! If you shared an idea during Session 1, think about features you might need to incorporate for your use case! \n",
    "\n",
    "When you're finished making the augments to your RAG application - vibe check it against the old one - see if you can \"feel the improvement\"!\n",
    "\n",
    "> NOTE: These additions might require you to work within the `aimakerspace` library - that's expected!\n",
    "\n",
    "> NOTE: If you're not sure where to start - ask Cursor (CMD/CTRL+L) to guide you through the changes!"
   ]
  },
  {
   "cell_type": "code",
   "execution_count": null,
   "metadata": {},
   "outputs": [],
   "source": [
    "\n",
    "import os\n",
    "import re\n",
    "import uuid\n",
    "import time\n",
    "import numpy as np\n",
    "from getpass import getpass\n",
    "from typing import List, Dict, Tuple, Any\n",
    "import asyncio\n",
    "from concurrent.futures import ThreadPoolExecutor\n",
    "\n",
    "# OpenAI client\n",
    "from openai import OpenAI\n",
    "\n",
    "# Document loaders\n",
    "import fitz  # PyMuPDF (runs on local, issues with Conda)\n",
    "import docx  # python-docx\n",
    "\n",
    "# For running in notebooks without \"event loop already running\" errors:\n",
    "try:\n",
    "    import nest_asyncio\n",
    "    nest_asyncio.apply()\n",
    "except Exception:\n",
    "    # not critical in plain scripts\n",
    "    pass\n",
    "\n",
    "###OpenAI API key \n",
    "def set_openai_api_key(api_key: str = None) -> OpenAI:\n",
    "    \"\"\"\n",
    "    Sets OPENAI_API_KEY env var and returns an initialized OpenAI client.\n",
    "    \"\"\"\n",
    "    if api_key is None:\n",
    "        api_key = getpass(\"OpenAI API Key: \")\n",
    "    os.environ[\"OPENAI_API_KEY\"] = api_key\n",
    "    # instantiate client AFTER setting env var\n",
    "    return OpenAI()\n",
    "\n",
    "###can load both text and PDF documents, vs. the original which was only .txt\n",
    "class TextLoader:\n",
    "    def __init__(self, path: str, encoding: str = \"utf-8\"):\n",
    "        self.path = path\n",
    "        self.encoding = encoding\n",
    "\n",
    "    def load(self) -> str:\n",
    "        with open(self.path, \"r\", encoding=self.encoding) as f:\n",
    "            return f.read()\n",
    "\n",
    "class PDFLoader:\n",
    "    def __init__(self, path: str):\n",
    "        self.path = path\n",
    "\n",
    "    def load(self) -> str:\n",
    "        text_parts = []\n",
    "        doc = fitz.open(self.path)\n",
    "        for pno in range(doc.page_count):\n",
    "            page = doc.load_page(pno)\n",
    "            txt = page.get_text(\"text\")\n",
    "            text_parts.append(f\"\\n\\n[PAGE {pno+1}]\\n{txt}\")\n",
    "        doc.close()\n",
    "        return \"\\n\".join(text_parts)\n",
    "\n",
    "class DOCXLoader:\n",
    "    def __init__(self, path: str):\n",
    "        self.path = path\n",
    "\n",
    "    def load(self) -> str:\n",
    "        doc = docx.Document(self.path)\n",
    "        paragraphs = [p.text for p in doc.paragraphs if p.text.strip() != \"\"]\n",
    "        return \"\\n\\n\".join(paragraphs)\n",
    "\n",
    "\n",
    "###### This changes the way that the text is split. In the original it did.., whereas this add components to make it more sentence and paragraph awarness\n",
    "\n",
    "\n",
    "class SimpleTextSplitter:\n",
    "    def __init__(self, chunk_size: int = 800, chunk_overlap: int = 100):\n",
    "        self.chunk_size = chunk_size\n",
    "        self.chunk_overlap = chunk_overlap\n",
    "        self.sentence_end_re = re.compile(r'(?<=[.!?])\\s+')\n",
    "\n",
    "    def split_text(self, text: str) -> List[str]:\n",
    "        sentences = [s.strip() for s in self.sentence_end_re.split(text) if s.strip()]\n",
    "        chunks = []\n",
    "        current = \"\"\n",
    "        for s in sentences:\n",
    "            if len(current) + len(s) + 1 <= self.chunk_size:\n",
    "                current = (current + \" \" + s).strip()\n",
    "            else:\n",
    "                if current:\n",
    "                    chunks.append(current)\n",
    "                if len(s) > self.chunk_size:\n",
    "                    for i in range(0, len(s), self.chunk_size - self.chunk_overlap):\n",
    "                        part = s[i:i + (self.chunk_size - self.chunk_overlap)]\n",
    "                        chunks.append(part)\n",
    "                    current = \"\"\n",
    "                else:\n",
    "                    current = s\n",
    "        if current:\n",
    "            chunks.append(current)\n",
    "\n",
    "        if self.chunk_overlap > 0 and len(chunks) > 1:\n",
    "            overlapped = []\n",
    "            for i, c in enumerate(chunks):\n",
    "                if i == 0:\n",
    "                    overlapped.append(c)\n",
    "                else:\n",
    "                    prev = overlapped[-1]\n",
    "                    overlap = prev[-self.chunk_overlap:] if len(prev) > self.chunk_overlap else prev\n",
    "                    overlapped.append((overlap + \" \" + c).strip())\n",
    "            return overlapped\n",
    "        return chunks\n",
    "\n",
    "\n",
    "class VectorDatabase:\n",
    "    def __init__(self, client: OpenAI, embeddings_model: str = \"text-embedding-3-large\"):\n",
    "        self.records: List[Dict[str, Any]] = []\n",
    "        self.embeddings_model = embeddings_model\n",
    "        self._norm_cache = None\n",
    "        self.client = client\n",
    "\n",
    "    def insert(self, text: str, embedding: np.ndarray, metadata: Dict[str, Any]):\n",
    "        rec = {\n",
    "            \"id\": str(uuid.uuid4()),\n",
    "            \"text\": text,\n",
    "            \"embedding\": np.asarray(embedding, dtype=np.float32),\n",
    "            \"meta\": metadata\n",
    "        }\n",
    "        self.records.append(rec)\n",
    "        self._norm_cache = None\n",
    "\n",
    "    def _ensure_norms(self):\n",
    "        if self._norm_cache is None:\n",
    "            if not self.records:\n",
    "                self._norm_cache = np.empty((0, 0), dtype=np.float32)\n",
    "                return\n",
    "            mats = np.vstack([r[\"embedding\"] for r in self.records])\n",
    "            norms = np.linalg.norm(mats, axis=1, keepdims=True)\n",
    "            norms[norms == 0] = 1.0\n",
    "            self._norm_cache = mats / norms\n",
    "\n",
    "    def search(self, query_embedding: np.ndarray, k: int = 4) -> List[Tuple[Dict[str, Any], float]]:\n",
    "        if len(self.records) == 0:\n",
    "            return []\n",
    "        self._ensure_norms()\n",
    "        q = np.asarray(query_embedding, dtype=np.float32)\n",
    "        qnorm = q / (np.linalg.norm(q) + 1e-12)\n",
    "        scores = np.dot(self._norm_cache, qnorm)\n",
    "        top_idx = np.argsort(-scores)[:k]\n",
    "        results = [(self.records[int(i)], float(scores[int(i)])) for i in top_idx]\n",
    "        return results\n",
    "\n",
    "    async def abuild_from_texts(self, list_of_texts: List[Tuple[str, Dict[str, Any]]], batch_size: int = 32):\n",
    "        loop = asyncio.get_running_loop()\n",
    "        with ThreadPoolExecutor(max_workers=4) as pool:\n",
    "            for i in range(0, len(list_of_texts), batch_size):\n",
    "                batch = list_of_texts[i:i + batch_size]\n",
    "                texts = [t for t, _ in batch]\n",
    "                metas = [m for _, m in batch]\n",
    "                # call the client's embeddings endpoint in a thread\n",
    "                def _embed_call():\n",
    "                    return self.client.embeddings.create(model=self.embeddings_model, input=texts)\n",
    "                try:\n",
    "                    embeddings_resp = await loop.run_in_executor(pool, _embed_call)\n",
    "                except Exception as e:\n",
    "                    raise RuntimeError(f\"Embedding API call failed: {e}\")\n",
    "                # align embeddings explicitly by index (safer than pop)\n",
    "                for j, item in enumerate(embeddings_resp.data):\n",
    "                    emb = np.array(item.embedding, dtype=np.float32)\n",
    "                    text = texts[j]\n",
    "                    meta = metas[j]\n",
    "                    self.insert(text, emb, meta)\n",
    "                # be cooperative with rate limits\n",
    "                await asyncio.sleep(0.05)\n",
    "\n",
    "\n",
    "def load_and_chunk_files(file_paths: List[str], splitter: SimpleTextSplitter) -> List[Tuple[str, Dict[str, Any]]]:\n",
    "    all_chunks = []\n",
    "    for path in file_paths:\n",
    "        lower = path.lower()\n",
    "        if lower.endswith(\".pdf\"):\n",
    "            loader = PDFLoader(path)\n",
    "        elif lower.endswith(\".docx\"):\n",
    "            loader = DOCXLoader(path)\n",
    "        else:\n",
    "            loader = TextLoader(path)\n",
    "        raw_text = loader.load()\n",
    "        chunks = splitter.split_text(raw_text)\n",
    "        total = len(chunks)\n",
    "        for i, c in enumerate(chunks):\n",
    "            meta = {\"source\": os.path.basename(path), \"chunk_index\": i, \"total_chunks\": total}\n",
    "            all_chunks.append((c, meta))\n",
    "    return all_chunks\n",
    "\n",
    "##### RAG pipeline that add in self-reflection and transparency of references\n",
    "class EnhancedRAG:\n",
    "    def __init__(self, client: OpenAI, llm_model: str = \"gpt-4o-mini\", embeddings_model: str = \"text-embedding-3-large\"):\n",
    "        self.client = client\n",
    "        self.llm_model = llm_model\n",
    "        self.vector_db = VectorDatabase(client=client, embeddings_model=embeddings_model)\n",
    "\n",
    "    async def ingest_files(self, file_paths: List[str], splitter: SimpleTextSplitter):\n",
    "        corpus = load_and_chunk_files(file_paths, splitter)\n",
    "        await self.vector_db.abuild_from_texts(corpus)\n",
    "\n",
    "    def _build_context_block(self, results: List[Tuple[Dict[str, Any], float]]) -> Tuple[str, List[str]]:\n",
    "        blocks = []\n",
    "        source_ids = []\n",
    "        for i, (rec, score) in enumerate(results, start=1):\n",
    "            sid = f\"SRC-{i}\"\n",
    "            source_ids.append(sid)\n",
    "            meta = rec[\"meta\"]\n",
    "            snippet = rec[\"text\"][:1000].replace(\"\\n\", \" \").strip()\n",
    "            blocks.append(f\"[{sid}] Source: {meta.get('source','unknown')} - chunk {meta.get('chunk_index')}/{meta.get('total_chunks')}\\n\\n{snippet}\\n\")\n",
    "        context_text = \"\\n\\n\".join(blocks)\n",
    "        return context_text, source_ids\n",
    "\n",
    "    def _call_llm(self, messages: List[Dict[str, str]], temperature: float = 0.0, max_tokens: int = 800) -> str:\n",
    "        try:\n",
    "            resp = self.client.chat.completions.create(model=self.llm_model, messages=messages, temperature=temperature, max_tokens=max_tokens)\n",
    "            return resp.choices[0].message.content\n",
    "        except Exception as e:\n",
    "            raise RuntimeError(f\"LLM call failed: {e}\")\n",
    "\n",
    "    def ask(self, user_query: str, k: int = 4, do_self_reflection: bool = True) -> Dict[str, Any]:\n",
    "        try:\n",
    "            emb_resp = self.client.embeddings.create(model=self.vector_db.embeddings_model, input=[user_query])\n",
    "        except Exception as e:\n",
    "            raise RuntimeError(f\"Embedding call failed for query: {e}\")\n",
    "        q_emb = np.array(emb_resp.data[0].embedding, dtype=np.float32)\n",
    "        results = self.vector_db.search(q_emb, k=k)\n",
    "        context_text, source_ids = self._build_context_block(results)\n",
    "\n",
    "        system_msg = {\n",
    "            \"role\": \"system\",\n",
    "            \"content\": \"You are a helpful assistant answering strictly from the context. Cite every factual claim using (SRC-n). If unsupported, say 'UNSUPPORTED'.\"\n",
    "        }\n",
    "        user_msg = {\n",
    "            \"role\": \"user\",\n",
    "            \"content\": f\"Context:\\n\\n{context_text}\\n\\nQuestion: {user_query}\\n\\nAnswer using only the context and cite inline (SRC-n). Then list sources used.\"\n",
    "        }\n",
    "        first_answer = self._call_llm([system_msg, user_msg])\n",
    "\n",
    "        output = {\"first_answer\": first_answer, \"retrieved\": [(r['meta'], s) for (r, s) in results]}\n",
    "\n",
    "        if do_self_reflection:\n",
    "            verify_system = {\"role\": \"system\", \"content\": \"You verify claims against context; be conservative.\"}\n",
    "            verify_user = {\"role\": \"user\", \"content\": f\"Context:\\n\\n{context_text}\\n\\nPrevious answer:\\n\\n{first_answer}\\n\\nTask:\\n1) Number claims.\\n2) For each claim, list supporting SRC tags or UNSUPPORTED.\\n3) Produce a revised final answer retaining only supported claims. Return JSON with keys: claims, verification, final_answer.\"}\n",
    "            verification_response = self._call_llm([verify_system, verify_user], temperature=0.0, max_tokens=1000)\n",
    "            output[\"verification\"] = verification_response\n",
    "\n",
    "            summarizer_system = {\"role\": \"system\", \"content\": \"Produce a concise final answer and confidence (0-100).\"}\n",
    "            summarizer_user = {\"role\": \"user\", \"content\": f\"Verification output:\\n{verification_response}\\n\\nProduce JSON: {{'final_answer_short':..., 'confidence': <int>}}\"}\n",
    "            summary_response = self._call_llm([summarizer_system, summarizer_user], temperature=0.0, max_tokens=200)\n",
    "            output[\"final_summary\"] = summary_response\n",
    "\n",
    "        return output\n",
    "\n",
    "############### Example\n",
    "async def demo_pmarca_rag():\n",
    "    \"\"\"Demo with PMarcaBlogs.txt and original questions\"\"\"\n",
    "    print(\"🏢 PMARCA BLOGS RAG DEMO\")\n",
    "    print(\"=\" * 50)\n",
    "    \n",
    "    client = set_openai_api_key()  # prompts for key, returns OpenAI client\n",
    "    files = [\"data/PMarcaBlogs.txt\"]  # Original text file\n",
    "    splitter = SimpleTextSplitter(chunk_size=800, chunk_overlap=120)\n",
    "    rag = EnhancedRAG(client=client, llm_model=\"gpt-4o-mini\", embeddings_model=\"text-embedding-3-large\")\n",
    "\n",
    "    print(f\"📄 Loading: {files[0]}\")\n",
    "    await rag.ingest_files(files, splitter)\n",
    "    print(f\"✅ Loaded {len(rag.vector_db.records)} chunks\")\n",
    "    print(\"🎉 Vector database ready!\")\n",
    "\n",
    "    # Original questions from the PMarca blogs\n",
    "    questions = [\n",
    "        \"What is the 'Michael Eisner Memorial Weak Executive Problem'?\",\n",
    "        \"What are Marc Andreessen's views on software and technology?\",\n",
    "        \"What does he say about startups and entrepreneurship?\",\n",
    "        \"What are his thoughts on the future of the internet?\",\n",
    "        \"What advice does he give to entrepreneurs and founders?\"\n",
    "    ]\n",
    "\n",
    "    print(\"\\n🎯 ANSWERING 5 ORIGINAL QUESTIONS\")\n",
    "    print(\"=\" * 50)\n",
    "\n",
    "    for i, question in enumerate(questions, 1):\n",
    "        print(f\"\\n{'='*50}\")\n",
    "        print(f\"QUESTION {i}: {question}\")\n",
    "        print('='*50)\n",
    "        \n",
    "        try:\n",
    "            print(f\"🔍 Searching for: {question}\")\n",
    "            result = rag.ask(question, k=4, do_self_reflection=True)\n",
    "            print(f\"📊 Found {len(result['retrieved'])} relevant chunks\")\n",
    "            print(f\"📝 ANSWER: {result['first_answer']}\")\n",
    "            \n",
    "            if result.get(\"verification\"):\n",
    "                print(f\"\\n🔍 VERIFICATION: {result['verification']}\")\n",
    "            \n",
    "            if result.get(\"final_summary\"):\n",
    "                print(f\"\\n📊 FINAL SUMMARY: {result['final_summary']}\")\n",
    "                \n",
    "        except Exception as e:\n",
    "            print(f\"❌ Error processing question: {e}\")\n",
    "        \n",
    "        print(\"-\" * 50)\n",
    "\n",
    "    print(\"\\n🎉 Analysis complete!\")\n",
    "    print(\"💡 You can now ask additional questions interactively...\")\n",
    "\n",
    "    while True:\n",
    "        try:\n",
    "            user_question = input(\"\\n❓ Ask another question about PMarca blogs (or 'quit' to exit): \").strip()\n",
    "            if user_question.lower() in ['quit', 'exit', 'q']:\n",
    "                break\n",
    "                \n",
    "            if not user_question:\n",
    "                continue\n",
    "                \n",
    "            print(\"🔍 Searching and analyzing...\")\n",
    "            result = rag.ask(user_question, k=4, do_self_reflection=True)\n",
    "            \n",
    "            print(f\"\\n📝 ANSWER: {result['first_answer']}\")\n",
    "            if result.get(\"final_summary\"):\n",
    "                print(f\"\\n📊 SUMMARY: {result['final_summary']}\")\n",
    "                \n",
    "        except KeyboardInterrupt:\n",
    "            break\n",
    "        except Exception as e:\n",
    "            print(f\"❌ Error: {e}\")\n",
    "\n",
    "async def demo_nestle_rag():\n",
    "    \"\"\"Demo with Nestle HR PDF\"\"\"\n",
    "    print(\"🏢 NESTLE HR POLICY RAG DEMO\")\n",
    "    print(\"=\" * 50)\n",
    "    \n",
    "    client = set_openai_api_key()  # prompts for key, returns OpenAI client\n",
    "    files = [\"data/the_nestle_hr_policy_pdf_2012.pdf\"]  # adjust path\n",
    "    splitter = SimpleTextSplitter(chunk_size=800, chunk_overlap=120)\n",
    "    rag = EnhancedRAG(client=client, llm_model=\"gpt-4o-mini\", embeddings_model=\"text-embedding-3-large\")\n",
    "\n",
    "    print(f\"📄 Loading: {files[0]}\")\n",
    "    await rag.ingest_files(files, splitter)\n",
    "    print(f\"✅ Loaded {len(rag.vector_db.records)} chunks\")\n",
    "    print(\"🎉 Vector database ready!\")\n",
    "\n",
    "    questions = [\n",
    "        \"What is Nestle's approach to employee recruitment and hiring?\",\n",
    "        \"What are the main HR policies and principles outlined in this document?\",\n",
    "        \"What are the key employee benefits and compensation policies?\",\n",
    "        \"What are the company's policies on diversity and inclusion?\",\n",
    "        \"How does Nestle handle employee performance management and development?\",\n",
    "    ]\n",
    "\n",
    "    print(\"\\n🎯 ANSWERING 5 NESTLE QUESTIONS\")\n",
    "    print(\"=\" * 50)\n",
    "\n",
    "    for i, question in enumerate(questions, 1):\n",
    "        print(f\"\\n{'='*50}\")\n",
    "        print(f\"QUESTION {i}: {question}\")\n",
    "        print('='*50)\n",
    "        \n",
    "        try:\n",
    "            print(f\"🔍 Searching for: {question}\")\n",
    "            result = rag.ask(question, k=4, do_self_reflection=True)\n",
    "            print(f\"📊 Found {len(result['retrieved'])} relevant chunks\")\n",
    "            print(f\"📝 ANSWER: {result['first_answer']}\")\n",
    "            \n",
    "            if result.get(\"final_summary\"):\n",
    "                print(f\"\\n📊 FINAL SUMMARY: {result['final_summary']}\")\n",
    "                \n",
    "        except Exception as e:\n",
    "            print(f\"❌ Error processing question: {e}\")\n",
    "        \n",
    "        print(\"-\" * 50)\n",
    "\n",
    "    print(\"\\n🎉 Analysis complete!\")\n",
    "\n",
    "if __name__ == \"__main__\":\n",
    "    import sys\n",
    "    \n",
    "    # Choose which demo to run\n",
    "    if len(sys.argv) > 1 and sys.argv[1] == \"nestle\":\n",
    "        asyncio.run(demo_nestle_rag())\n",
    "    else:\n",
    "        print(\"Running PMarca Blogs demo...\")\n",
    "        print(\"(Use 'python new_rag.py nestle' for Nestle HR policy demo)\")\n",
    "        asyncio.run(demo_pmarca_rag())\n"
   ]
  },
  {
   "cell_type": "code",
   "execution_count": null,
   "metadata": {},
   "outputs": [],
   "source": []
  }
 ],
 "metadata": {
  "colab": {
   "provenance": []
  },
  "kernelspec": {
   "display_name": "AIE8 RAG (.venv)",
   "language": "python",
   "name": "aie8-rag"
  },
  "language_info": {
   "codemirror_mode": {
    "name": "ipython",
    "version": 3
   },
   "file_extension": ".py",
   "mimetype": "text/x-python",
   "name": "python",
   "nbconvert_exporter": "python",
   "pygments_lexer": "ipython3",
   "version": "3.11.9"
  }
 },
 "nbformat": 4,
 "nbformat_minor": 4
}
